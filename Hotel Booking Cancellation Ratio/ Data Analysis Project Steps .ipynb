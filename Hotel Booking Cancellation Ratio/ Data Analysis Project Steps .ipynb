{
 "cells": [
  {
   "cell_type": "markdown",
   "id": "2bc9d7dd",
   "metadata": {},
   "source": [
    "# Data Analysis Project Steps "
   ]
  },
  {
   "cell_type": "markdown",
   "id": "701bf4c1",
   "metadata": {},
   "source": [
    "<h3> <li>  Create a Problem Statement.  </li> \n",
    "    <li>Identify the data you want to analize. </li>\n",
    "    <li> Explore and clean data.</li>\n",
    "    <li> Analyze the data to get useful insights.</li>\n",
    "    <li> Present the data in terms of reports or dashboards useing visualization </li>\n",
    "</h3>\n"
   ]
  },
  {
   "cell_type": "code",
   "execution_count": null,
   "id": "5a43cf3f",
   "metadata": {},
   "outputs": [],
   "source": []
  }
 ],
 "metadata": {
  "kernelspec": {
   "display_name": "Python 3 (ipykernel)",
   "language": "python",
   "name": "python3"
  },
  "language_info": {
   "codemirror_mode": {
    "name": "ipython",
    "version": 3
   },
   "file_extension": ".py",
   "mimetype": "text/x-python",
   "name": "python",
   "nbconvert_exporter": "python",
   "pygments_lexer": "ipython3",
   "version": "3.10.6"
  }
 },
 "nbformat": 4,
 "nbformat_minor": 5
}
